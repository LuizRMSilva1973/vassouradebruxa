{
 "cells": [
  {
   "cell_type": "markdown",
   "metadata": {},
   "source": [
    "# Docking Analysis Example\n",
    "\n",
    "Este notebook exemplifica a análise do arquivo `docking_results/summary_affinities.csv` gerado pelo `run_docking.sh`.\n",
    "\n",
    "Conteúdo:\n",
    "- Leitura e limpeza do CSV\n",
    "- Ranking dos melhores ligantes por alvo\n",
    "- Distribuições de afinidades por alvo (violin/box)\n",
    "- Heatmap de afinidades (ligantes × alvos)\n",
    "\n",
    "Pré‑requisitos: `pandas`, `matplotlib` e opcionalmente `seaborn`."
   ]
  },
  {
   "cell_type": "code",
   "execution_count": null,
   "metadata": {},
   "outputs": [],
   "source": [
    "import pandas as pd\n",
    "import numpy as np\n",
    "import matplotlib.pyplot as plt\n",
    "\n",
    "# seaborn opcional\n",
    "try:\n",
    "    import seaborn as sns\n",
    "    HAS_SNS = True\n",
    "except Exception:\n",
    "    HAS_SNS = False\n",
    "\n",
    "%matplotlib inline\n",
    "plt.rcParams['figure.dpi'] = 120\n",
    "plt.rcParams['figure.figsize'] = (8, 4)"
   ]
  },
  {
   "cell_type": "code",
   "execution_count": null,
   "metadata": {},
   "outputs": [],
   "source": [
    "from pathlib import Path\n",
    "summary_path = Path('docking_results/summary_affinities.csv')\n",
    "assert summary_path.exists(), f'Arquivo não encontrado: {summary_path}'\n",
    "df = pd.read_csv(summary_path)\n",
    "# converter afinidade para numérico (NA vira NaN)\n",
    "df['best_affinity_kcal_per_mol_num'] = pd.to_numeric(df['best_affinity_kcal_per_mol'], errors='coerce')\n",
    "df.head()"
   ]
  },
  {
   "cell_type": "code",
   "execution_count": null,
   "metadata": {},
   "outputs": [],
   "source": [
    "print('Entradas:', len(df))\n",
    "print('Alvos:', df['target'].nunique())\n",
    "print('Ligantes:', df['ligand'].nunique())\n",
    "print('Registros válidos (afinidade != NA):', df['best_affinity_kcal_per_mol_num'].notna().sum())"
   ]
  },
  {
   "cell_type": "markdown",
   "metadata": {},
   "source": [
    "## Filtros opcionais\n",
    "Defina uma lista de alvos para restringir as análises (ou deixe vazia)."
   ]
  },
  {
   "cell_type": "code",
   "execution_count": null,
   "metadata": {},
   "outputs": [],
   "source": [
    "targets_filter = []  # ex.: ['CHS', 'FKS']\n",
    "if targets_filter:\n",
    "    df = df[df['target'].isin(targets_filter)].copy()\n",
    "    print('Filtrado para alvos:', targets_filter, '=>', len(df), 'linhas')\n",
    "else:\n",
    "    print('Sem filtro de alvos.')"
   ]
  },
  {
   "cell_type": "markdown",
   "metadata": {},
   "source": [
    "## Top-N ligantes por alvo\n",
    "Para cada alvo, exibe os N ligantes com melhor afinidade (mais negativa)."
   ]
  },
  {
   "cell_type": "code",
   "execution_count": null,
   "metadata": {},
   "outputs": [],
   "source": [
    "N = 10  # top-N\n",
    "best_by_target = []\n",
    "for target, sub in df.dropna(subset=['best_affinity_kcal_per_mol_num']).groupby('target'):\n",
    "    sub_sorted = sub.sort_values('best_affinity_kcal_per_mol_num', ascending=True).head(N)\n",
    "    best_by_target.append((target, sub_sorted[['ligand', 'best_affinity_kcal_per_mol_num']]))\n",
    "\n",
    "for target, tbl in best_by_target:\n",
    "    print(f'\n== Top {N} para alvo: {target} ==')\n",
    "    display(tbl.reset_index(drop=True))"
   ]
  },
  {
   "cell_type": "markdown",
   "metadata": {},
   "source": [
    "## Distribuições por alvo (Violin / Box)"
   ]
  },
  {
   "cell_type": "code",
   "execution_count": null,
   "metadata": {},
   "outputs": [],
   "source": [
    "valid = df.dropna(subset=['best_affinity_kcal_per_mol_num'])\n",
    "if HAS_SNS:\n",
    "    fig, ax = plt.subplots(figsize=(10, 4))\n",
    "    sns.violinplot(data=valid, x='target', y='best_affinity_kcal_per_mol_num', ax=ax, inner='point', cut=0)\n",
    "    ax.set_title('Distribuição de afinidades por alvo (Violin)')\n",
    "    ax.set_xlabel('Alvo')\n",
    "    ax.set_ylabel('Afinidade (kcal/mol), mais negativo é melhor')\n",
    "    plt.xticks(rotation=45, ha='right')\n",
    "    plt.tight_layout()\n",
    "    plt.show()\n",
    "\n",
    "    fig, ax = plt.subplots(figsize=(10, 4))\n",
    "    sns.boxplot(data=valid, x='target', y='best_affinity_kcal_per_mol_num', ax=ax, showmeans=True)\n",
    "    ax.set_title('Distribuição de afinidades por alvo (Boxplot)')\n",
    "    ax.set_xlabel('Alvo')\n",
    "    ax.set_ylabel('Afinidade (kcal/mol), mais negativo é melhor')\n",
    "    plt.xticks(rotation=45, ha='right')\n",
    "    plt.tight_layout()\n",
    "    plt.show()\n",
    "else:\n",
    "    # fallback simples sem seaborn: boxplot de listas\n",
    "    groups = [g['best_affinity_kcal_per_mol_num'].values for _, g in valid.groupby('target')]\n",
    "    labels = [t for t, _ in valid.groupby('target')]\n",
    "    fig, ax = plt.subplots(figsize=(10, 4))\n",
    "    ax.boxplot(groups, showmeans=True)\n",
    "    ax.set_title('Distribuição de afinidades por alvo (Boxplot)')\n",
    "    ax.set_xlabel('Alvo')\n",
    "    ax.set_ylabel('Afinidade (kcal/mol)')\n",
    "    ax.set_xticklabels(labels, rotation=45, ha='right')\n",
    "    plt.tight_layout()\n",
    "    plt.show()"
   ]
  },
  {
   "cell_type": "markdown",
   "metadata": {},
   "source": [
    "## Heatmap (ligantes × alvos)\n",
    "Usa a melhor afinidade por par (ligante × alvo)."
   ]
  },
  {
   "cell_type": "code",
   "execution_count": null,
   "metadata": {},
   "outputs": [],
   "source": [
    "# reduzir para uma linha por par (ligante, alvo) com a melhor afinidade\n",
    "grp = (valid.groupby(['ligand','target'])\n",
    "       ['best_affinity_kcal_per_mol_num']\n",
    "       .min()\n",
    "       .reset_index())\n",
    "pivot = grp.pivot(index='ligand', columns='target', values='best_affinity_kcal_per_mol_num')\n",
    "pivot = pivot.sort_index(axis=0).sort_index(axis=1)\n",
    "pivot.head()"
   ]
  },
  {
   "cell_type": "code",
   "execution_count": null,
   "metadata": {},
   "outputs": [],
   "source": [
    "if HAS_SNS:\n",
    "    plt.figure(figsize=(10, max(4, 0.18*len(pivot))))\n",
    "    sns.heatmap(pivot, cmap='viridis', annot=False)\n",
    "    plt.title('Heatmap de afinidades (ligantes × alvos) — mais negativo é melhor')\n",
    "    plt.xlabel('Alvo')\n",
    "    plt.ylabel('Ligante')\n",
    "    plt.tight_layout()\n",
    "    plt.show()\n",
    "else:\n",
    "    plt.figure(figsize=(10, max(4, 0.18*len(pivot))))\n",
    "    plt.imshow(pivot.values, aspect='auto', cmap='viridis')\n",
    "    plt.colorbar(label='Afinidade (kcal/mol)')\n",
    "    plt.title('Heatmap de afinidades (ligantes × alvos) — mais negativo é melhor')\n",
    "    plt.xlabel('Alvo')\n",
    "    plt.ylabel('Ligante')\n",
    "    plt.yticks(range(len(pivot.index)), pivot.index)\n",
    "    plt.xticks(range(len(pivot.columns)), pivot.columns, rotation=45, ha='right')\n",
    "    plt.tight_layout()\n",
    "    plt.show()"
   ]
  }
 ],
 "metadata": {
  "kernelspec": {
   "display_name": "Python 3",
   "language": "python",
   "name": "python3"
  },
  "language_info": {
   "name": "python",
   "version": "3"
  }
 },
 "nbformat": 4,
 "nbformat_minor": 5
}

